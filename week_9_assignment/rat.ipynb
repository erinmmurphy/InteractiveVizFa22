{
 "cells": [
  {
   "cell_type": "code",
   "execution_count": 3,
   "id": "2c692d29-393b-492f-b82d-1ec8122099d0",
   "metadata": {},
   "outputs": [],
   "source": [
    "import pandas as pd\n",
    "import numpy as np"
   ]
  },
  {
   "cell_type": "code",
   "execution_count": 4,
   "id": "bcc1f1e3-6912-4ba6-bf87-3b6ff8325fb1",
   "metadata": {},
   "outputs": [],
   "source": [
    "df_rats = pd.read_csv('rat_sightings.csv')"
   ]
  },
  {
   "cell_type": "code",
   "execution_count": 6,
   "id": "84122952-cf7e-434b-b2b6-c0b546e8ee38",
   "metadata": {},
   "outputs": [],
   "source": [
    "df_rats['Percentile Rank'] = df_rats.Borough.rank(pct = True)"
   ]
  },
  {
   "cell_type": "code",
   "execution_count": 7,
   "id": "d7565efb-fef7-4ada-8dcb-c69414a086e5",
   "metadata": {},
   "outputs": [
    {
     "data": {
      "text/html": [
       "<div>\n",
       "<style scoped>\n",
       "    .dataframe tbody tr th:only-of-type {\n",
       "        vertical-align: middle;\n",
       "    }\n",
       "\n",
       "    .dataframe tbody tr th {\n",
       "        vertical-align: top;\n",
       "    }\n",
       "\n",
       "    .dataframe thead th {\n",
       "        text-align: right;\n",
       "    }\n",
       "</style>\n",
       "<table border=\"1\" class=\"dataframe\">\n",
       "  <thead>\n",
       "    <tr style=\"text-align: right;\">\n",
       "      <th></th>\n",
       "      <th>Created Date</th>\n",
       "      <th>Complaint Type</th>\n",
       "      <th>Descriptor</th>\n",
       "      <th>Incident Zip</th>\n",
       "      <th>Borough</th>\n",
       "      <th>Percentile Rank</th>\n",
       "    </tr>\n",
       "  </thead>\n",
       "  <tbody>\n",
       "    <tr>\n",
       "      <th>0</th>\n",
       "      <td>5/5/22 15:02</td>\n",
       "      <td>Rodent</td>\n",
       "      <td>Rat Sighting</td>\n",
       "      <td>11216</td>\n",
       "      <td>BROOKLYN</td>\n",
       "      <td>0.346298</td>\n",
       "    </tr>\n",
       "    <tr>\n",
       "      <th>1</th>\n",
       "      <td>6/6/22 11:00</td>\n",
       "      <td>Rodent</td>\n",
       "      <td>Rat Sighting</td>\n",
       "      <td>10029</td>\n",
       "      <td>MANHATTAN</td>\n",
       "      <td>0.678174</td>\n",
       "    </tr>\n",
       "    <tr>\n",
       "      <th>2</th>\n",
       "      <td>4/26/22 11:44</td>\n",
       "      <td>Rodent</td>\n",
       "      <td>Rat Sighting</td>\n",
       "      <td>10031</td>\n",
       "      <td>MANHATTAN</td>\n",
       "      <td>0.678174</td>\n",
       "    </tr>\n",
       "    <tr>\n",
       "      <th>3</th>\n",
       "      <td>5/31/22 4:41</td>\n",
       "      <td>Rodent</td>\n",
       "      <td>Rat Sighting</td>\n",
       "      <td>10031</td>\n",
       "      <td>MANHATTAN</td>\n",
       "      <td>0.678174</td>\n",
       "    </tr>\n",
       "    <tr>\n",
       "      <th>4</th>\n",
       "      <td>6/7/22 7:11</td>\n",
       "      <td>Rodent</td>\n",
       "      <td>Rat Sighting</td>\n",
       "      <td>10039</td>\n",
       "      <td>MANHATTAN</td>\n",
       "      <td>0.678174</td>\n",
       "    </tr>\n",
       "    <tr>\n",
       "      <th>5</th>\n",
       "      <td>6/9/22 22:32</td>\n",
       "      <td>Rodent</td>\n",
       "      <td>Rat Sighting</td>\n",
       "      <td>10033</td>\n",
       "      <td>MANHATTAN</td>\n",
       "      <td>0.678174</td>\n",
       "    </tr>\n",
       "    <tr>\n",
       "      <th>6</th>\n",
       "      <td>6/9/22 17:35</td>\n",
       "      <td>Rodent</td>\n",
       "      <td>Rat Sighting</td>\n",
       "      <td>10031</td>\n",
       "      <td>MANHATTAN</td>\n",
       "      <td>0.678174</td>\n",
       "    </tr>\n",
       "    <tr>\n",
       "      <th>7</th>\n",
       "      <td>6/10/22 15:05</td>\n",
       "      <td>Rodent</td>\n",
       "      <td>Rat Sighting</td>\n",
       "      <td>11218</td>\n",
       "      <td>BROOKLYN</td>\n",
       "      <td>0.346298</td>\n",
       "    </tr>\n",
       "    <tr>\n",
       "      <th>8</th>\n",
       "      <td>6/29/22 17:04</td>\n",
       "      <td>Rodent</td>\n",
       "      <td>Rat Sighting</td>\n",
       "      <td>11367</td>\n",
       "      <td>QUEENS</td>\n",
       "      <td>0.894879</td>\n",
       "    </tr>\n",
       "    <tr>\n",
       "      <th>9</th>\n",
       "      <td>6/30/22 6:26</td>\n",
       "      <td>Rodent</td>\n",
       "      <td>Rat Sighting</td>\n",
       "      <td>10026</td>\n",
       "      <td>MANHATTAN</td>\n",
       "      <td>0.678174</td>\n",
       "    </tr>\n",
       "  </tbody>\n",
       "</table>\n",
       "</div>"
      ],
      "text/plain": [
       "    Created Date Complaint Type    Descriptor  Incident Zip    Borough  \\\n",
       "0   5/5/22 15:02         Rodent  Rat Sighting         11216   BROOKLYN   \n",
       "1   6/6/22 11:00         Rodent  Rat Sighting         10029  MANHATTAN   \n",
       "2  4/26/22 11:44         Rodent  Rat Sighting         10031  MANHATTAN   \n",
       "3   5/31/22 4:41         Rodent  Rat Sighting         10031  MANHATTAN   \n",
       "4    6/7/22 7:11         Rodent  Rat Sighting         10039  MANHATTAN   \n",
       "5   6/9/22 22:32         Rodent  Rat Sighting         10033  MANHATTAN   \n",
       "6   6/9/22 17:35         Rodent  Rat Sighting         10031  MANHATTAN   \n",
       "7  6/10/22 15:05         Rodent  Rat Sighting         11218   BROOKLYN   \n",
       "8  6/29/22 17:04         Rodent  Rat Sighting         11367     QUEENS   \n",
       "9   6/30/22 6:26         Rodent  Rat Sighting         10026  MANHATTAN   \n",
       "\n",
       "   Percentile Rank  \n",
       "0         0.346298  \n",
       "1         0.678174  \n",
       "2         0.678174  \n",
       "3         0.678174  \n",
       "4         0.678174  \n",
       "5         0.678174  \n",
       "6         0.678174  \n",
       "7         0.346298  \n",
       "8         0.894879  \n",
       "9         0.678174  "
      ]
     },
     "execution_count": 7,
     "metadata": {},
     "output_type": "execute_result"
    }
   ],
   "source": [
    "df_rats.head(10)"
   ]
  },
  {
   "cell_type": "code",
   "execution_count": 9,
   "id": "1455665c-266a-4f06-9b9b-5f2f13176017",
   "metadata": {},
   "outputs": [],
   "source": [
    "df_rats.to_csv('rats_borough.csv')"
   ]
  },
  {
   "cell_type": "code",
   "execution_count": 10,
   "id": "65a598dc-5a75-4a99-97d6-5bde55b517b0",
   "metadata": {},
   "outputs": [
    {
     "data": {
      "text/plain": [
       "BROOKLYN         9000\n",
       "MANHATTAN        6555\n",
       "BRONX            3615\n",
       "QUEENS           3602\n",
       "STATEN ISLAND     661\n",
       "Unspecified         2\n",
       "Name: Borough, dtype: int64"
      ]
     },
     "execution_count": 10,
     "metadata": {},
     "output_type": "execute_result"
    }
   ],
   "source": [
    "df_rats['Borough'].value_counts()"
   ]
  },
  {
   "cell_type": "code",
   "execution_count": null,
   "id": "46d74898-9ea8-41d0-b7b8-829ef433aa62",
   "metadata": {},
   "outputs": [],
   "source": []
  }
 ],
 "metadata": {
  "kernelspec": {
   "display_name": "Python 3 (ipykernel)",
   "language": "python",
   "name": "python3"
  },
  "language_info": {
   "codemirror_mode": {
    "name": "ipython",
    "version": 3
   },
   "file_extension": ".py",
   "mimetype": "text/x-python",
   "name": "python",
   "nbconvert_exporter": "python",
   "pygments_lexer": "ipython3",
   "version": "3.9.12"
  }
 },
 "nbformat": 4,
 "nbformat_minor": 5
}
